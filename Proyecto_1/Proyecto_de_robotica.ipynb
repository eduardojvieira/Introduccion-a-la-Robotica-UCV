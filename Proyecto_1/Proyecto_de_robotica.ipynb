{
 "cells": [
  {
   "cell_type": "markdown",
   "metadata": {},
   "source": [
    "<h2><p style='text-align: center;'>Eduardo Vieira</p></h2>\n",
    "<p style='text-align: center;'>Universidad Central de Venezuela <br>\n",
    "Escuela de Ingeniería Mecánica <br>\n",
    "eduardo.vieira@ucv.ve<br>\n",
    "Profesor: Arturo Gil</p>\n",
    "\n",
    "<h1> Estudio de la cinemática Directa y cinemática inversa de un manipulador plano de 3 grados de libertad </h1>\n",
    "<br> \n",
    "__Se tiene:__ El siguiente manipulador plano <br>\n",
    "<img src=\"Robot.png\">\n",
    "<br>\n",
    "__Se pide:__\n",
    "<ul>\n",
    "<li>1.    Definir la matriz de Denvit-Hatenberg.</li>\n",
    "<li>2.    Estudiar la cinématica directa.</li>\n",
    "<li>3.    Estudiar la cinématica inversa.</li>\n",
    "</ul>"
   ]
  },
  {
   "cell_type": "markdown",
   "metadata": {
    "collapsed": false
   },
   "source": [
    "__Solución:__ <br>\n",
    "Se importan las librerías a utilizar. En este caso importamos Sympy, para los cálculos de álgebra simbólica."
   ]
  },
  {
   "cell_type": "code",
   "execution_count": null,
   "metadata": {
    "collapsed": false
   },
   "outputs": [],
   "source": [
    "import sympy as sym  # Librería para Cálculo de Algebra Simbólica \n",
    "sym.init_printing(use_latex=True)      # Activamos la salida en LaTex\n",
    "from sympy.abc import alpha, theta  #Importamos los simbolos alpha y theta"
   ]
  },
  {
   "cell_type": "markdown",
   "metadata": {},
   "source": [
    "Definimos una función llamda MDH que al introducirle los valores de theta, d, a y alpha no da la matriz de Denavit-Hatenbreg"
   ]
  },
  {
   "cell_type": "code",
   "execution_count": null,
   "metadata": {
    "collapsed": true
   },
   "outputs": [],
   "source": [
    "def MDH(theta, d, a, alpha):\n",
    "    dh = sym.zeros(4,4)\n",
    "    dh[0,0]=sym.cos(theta)\n",
    "    dh[0,1]=-sym.cos(alpha)*sym.sin(theta)\n",
    "    dh[0,2]=sym.sin(alpha)*sym.sin(theta)\n",
    "    dh[0,3]=a*sym.cos(theta)\n",
    "    dh[1,0]=sym.sin(theta)\n",
    "    dh[1,1]=sym.cos(alpha)*sym.cos(theta)\n",
    "    dh[1,2]=-sym.sin(alpha)*sym.cos(theta)\n",
    "    dh[1,3]=a*sym.sin(theta)\n",
    "    dh[2,0]=0\n",
    "    dh[2,1]=sym.sin(alpha)\n",
    "    dh[2,2]=sym.cos(alpha)\n",
    "    dh[2,3]=d\n",
    "    dh[3,0]=0\n",
    "    dh[3,1]=0\n",
    "    dh[3,2]=0\n",
    "    dh[3,3]=1\n",
    "    return dh"
   ]
  },
  {
   "cell_type": "markdown",
   "metadata": {},
   "source": [
    "Definimos las variables simbólicas correspondientes a las artículaciones del robot"
   ]
  },
  {
   "cell_type": "code",
   "execution_count": null,
   "metadata": {
    "collapsed": false
   },
   "outputs": [],
   "source": [
    "q_1,q_2,q_3 = sym.symbols('q_1 q_2 q_3')"
   ]
  },
  {
   "cell_type": "markdown",
   "metadata": {},
   "source": [
    "Definimos las longitudes de los eslabones"
   ]
  },
  {
   "cell_type": "code",
   "execution_count": null,
   "metadata": {
    "collapsed": true
   },
   "outputs": [],
   "source": [
    "l_1 = 4 #[m]\n",
    "l_2 = 3 #[m]\n",
    "l_3 = 2 #[m]"
   ]
  },
  {
   "cell_type": "markdown",
   "metadata": {},
   "source": [
    "El algoritmo de Denavit-Hatenberg es el siguiente: <br>\n",
    "<li>1.    Numerar los eslabones comenzando con $1$ (primer eslabón móvil dela cadena) y acabando con $n$ (último eslabón móvil). Se numerará como eslabón $0$ a la base fija del robot.</li>\n",
    "\n",
    "<li>2.    Numerar cada articulación comenzando por $1$ (la correspondiente al primer grado de libertad) y acabando en $n$.</li>\n",
    "\n",
    "<li>3.    Localizar el eje de cada articulación. Si esta es rotativa, el eje será su propio eje de giro. Si es prismática, será el eje a lo largo del cual se produce el desplazamiento.</li>\n",
    "\n",
    "<li>4.    Para $i$ de $0$ a $n-1$, situar el eje $Z_i$, sobre el eje de la articulación $i+1$.</li>\n",
    "\n",
    "<li>5.    Situar el origen del sistema de la base ($S_0$) en cualquier punto del eje $Z_0$. Los ejes $X_0$ e $Y_0$ se situaran dé modo que formen un sistema dextrógiro con $Z_0$.</li>\n",
    "\n",
    "<li>6.    Para $i$ de $1$ a $n-1$, situar el sistema ($S_i$) (solidario al eslabón $i$) en la intersección del eje $Z_i$ con la línea normal común a $Z_{i-1}$ y $Z_i$. Si ambos ejes se cortasen se situaría ($S_i$) en el punto de corte. Si fuesen paralelos ($S_i$) se situaría en la articulación $i+1$.</li>\n",
    "\n",
    "<li>7.    Situar Xi en la línea normal común a Zi-1 y Zi.</li>\n",
    "\n",
    "<li>8.    Situar Yi de modo que forme un sistema dextrógiro con Xi y Zi.</li>\n",
    "\n",
    "<li>9.    Situar el sistema (Sn) en el extremo del robot de modo que Zn coincida con la dirección de Zn-1 y Xn sea normal a Zn-1 y Zn.</li>\n",
    "\n",
    "<li>10.    Obtener Øi como el ángulo que hay que girar en torno a Zi-1 para que Xi-1 y Xi queden paralelos.</li>\n",
    "\n",
    "<li>11.    Obtener Di como la distancia, medida a lo largo de Zi-1, que habría que desplazar (Si-1) para que Xi y Xi-1 quedasen alineados.</li>\n",
    "\n",
    "<li>12.    Obtener Ai como la distancia medida a lo largo de Xi (que ahora coincidiría con Xi-1) que habría que desplazar el nuevo (Si-1) para que su origen coincidiese con (Si).</li>\n",
    "\n",
    "<li>13.    Obtener ai como el ángulo que habría que girar entorno a Xi (que ahora coincidiría con Xi-1), para que el nuevo (Si-1) coincidiese totalmente con (Si).</li>\n",
    "\n",
    "<li>14.    Obtener las matrices de transformación i-1Ai.</li>\n",
    "\n",
    "<li>15.    Obtener la matriz de transformación que relaciona el sistema de la base con el del extremo del robot T = 0Ai, 1A2... n-1An.</li>\n",
    "\n",
    "<li>16.    La matriz T define la orientación (submatriz de rotación) y posición (submatriz de traslación) del extremo referido ala base en función de las n coordenadas articulares.</li>"
   ]
  },
  {
   "cell_type": "markdown",
   "metadata": {
    "collapsed": true
   },
   "source": [
    "Al aplicar el algoritmo quedaría:\n",
    "<img src=\"RobotDH5.png\">\n",
    "Los parámetros de Denavit-Hartenberg para cada articulación serían: <br>\n",
    "\n",
    "<table>\n",
    "<tr>\n",
    "  <td><strong>Articulación</strong></td>\n",
    "  <td><strong>&nbsp; &nbsp; &nbsp; &nbsp;&nbsp;&nbsp; &nbsp;  $\\theta$ &nbsp; &nbsp;  &nbsp; &nbsp; &nbsp; &nbsp; </strong></td>\n",
    "  <td><strong>&nbsp; &nbsp; &nbsp; &nbsp;&nbsp;&nbsp; &nbsp;d&nbsp; &nbsp;  &nbsp; &nbsp; &nbsp; &nbsp;</strong></td>\n",
    "  <td><strong>&nbsp; &nbsp; &nbsp; &nbsp;&nbsp;&nbsp; &nbsp;a&nbsp; &nbsp;  &nbsp; &nbsp; &nbsp; &nbsp;</strong></td>\n",
    "  <td><strong>&nbsp; &nbsp; &nbsp; &nbsp;&nbsp;&nbsp; &nbsp;$\\alpha$&nbsp; &nbsp;  &nbsp; &nbsp; &nbsp; &nbsp;</strong></td>\n",
    "</tr>\n",
    " \n",
    "<tr>\n",
    "  <td>1</td>\n",
    "  <td>$q_1$</td>\n",
    "  <td>0</td>\n",
    "  <td>$l_1$</td>\n",
    "  <td>0</td>\n",
    "</tr>\n",
    "<tr>\n",
    "  <td>2</td>\n",
    "  <td>$q_2 - \\pi$</td>\n",
    "  <td>0</td>\n",
    "  <td>$l_2$</td>\n",
    "  <td>0</td>\n",
    "</tr>\n",
    "<tr>\n",
    "  <td>3</td>\n",
    "  <td>$q_3 - \\pi$</td>\n",
    "  <td>0</td>\n",
    "  <td>$l_3$</td>\n",
    "  <td>0</td>\n",
    "</tr>\n",
    " \n",
    "</table>"
   ]
  },
  {
   "cell_type": "markdown",
   "metadata": {},
   "source": [
    "La matriz de transformación $^{0}T_{1}$ será "
   ]
  },
  {
   "cell_type": "code",
   "execution_count": null,
   "metadata": {
    "collapsed": false
   },
   "outputs": [],
   "source": [
    "T_1 = MDH(q_1, 0, l_1, 0)\n",
    "T_1"
   ]
  },
  {
   "cell_type": "markdown",
   "metadata": {},
   "source": [
    "$^{1}T_{2}$:"
   ]
  },
  {
   "cell_type": "code",
   "execution_count": null,
   "metadata": {
    "collapsed": false
   },
   "outputs": [],
   "source": [
    "T_2 = MDH(q_2-sym.pi, 0, l_2, 0)\n",
    "T_2"
   ]
  },
  {
   "cell_type": "markdown",
   "metadata": {},
   "source": [
    "Y finalmente $^{2}T_{3}$:"
   ]
  },
  {
   "cell_type": "code",
   "execution_count": null,
   "metadata": {
    "collapsed": false
   },
   "outputs": [],
   "source": [
    "T_3 = MDH(q_3-sym.pi, 0, l_3, 0)\n",
    "T_3"
   ]
  },
  {
   "cell_type": "markdown",
   "metadata": {},
   "source": [
    "La matriz de transformación que relciona el extremo de la herramienta del robot con el sistema definido en la base $T$ será $T = ^{0}T_{1} \\cdot ^{1}T_{2} \\cdot ^{2}T_{3}$"
   ]
  },
  {
   "cell_type": "code",
   "execution_count": null,
   "metadata": {
    "collapsed": false
   },
   "outputs": [],
   "source": [
    "T = T_1 * T_2 * T_3\n",
    "T"
   ]
  },
  {
   "cell_type": "markdown",
   "metadata": {},
   "source": [
    "Sean $x_r$, $y_r$ y $z_r$ las coordenadas de un punto medidas desde el sistema de referencia ubicado en el extremo del robot. "
   ]
  },
  {
   "cell_type": "code",
   "execution_count": null,
   "metadata": {
    "collapsed": false
   },
   "outputs": [],
   "source": [
    "P_r = sym.zeros(4,1)\n",
    "x_r, y_r, z_r = sym.symbols('x_r y_r z_r')\n",
    "P_r[0,0] = x_r\n",
    "P_r[1,0] = y_r\n",
    "P_r[2,0] = z_r\n",
    "P_r[3,0] = 1\n",
    "P_r"
   ]
  },
  {
   "cell_type": "markdown",
   "metadata": {},
   "source": [
    "Entonces, el mismo punto medido en el sistema de referencia de la base tendrá las coordenadas"
   ]
  },
  {
   "cell_type": "code",
   "execution_count": null,
   "metadata": {
    "collapsed": false
   },
   "outputs": [],
   "source": [
    "T*P_r"
   ]
  },
  {
   "cell_type": "markdown",
   "metadata": {},
   "source": [
    "El punto que determina la ubicación de la herramienta se obtiene de la siguiente manera"
   ]
  },
  {
   "cell_type": "code",
   "execution_count": null,
   "metadata": {
    "collapsed": false
   },
   "outputs": [],
   "source": [
    "P_r[0,0] = 0\n",
    "P_r[1,0] = 0\n",
    "P_r[2,0] = 0\n",
    "P=T*P_r\n",
    "P"
   ]
  },
  {
   "cell_type": "markdown",
   "metadata": {},
   "source": [
    "En la siguiente entrada determinaremos la posición de la herramienta modificando los valores de $q_1$, $q_2$ y $q_3$ en los widgets interactivos"
   ]
  },
  {
   "cell_type": "code",
   "execution_count": null,
   "metadata": {
    "collapsed": false
   },
   "outputs": [],
   "source": [
    "import matplotlib.pyplot as plt\n",
    "#plt.style.use('bmh')\n",
    "from numpy import sin, cos, pi, arctan2\n",
    "from IPython.html.widgets import interact, FloatSlider, interactive\n",
    "from IPython.display import display\n",
    "%matplotlib inline\n",
    "fact = 180 / pi\n",
    "def punto(q1,q2,q3):\n",
    "    x = -2*(sin(q1)*sin(q2) - cos(q1)*cos(q2))*cos(q3) - 2 * \\\n",
    "    (sin(q1)*cos(q2) + sin(q2)*cos(q1))*sin(q3) + 3*sin(q1)*sin(q2) - \\\n",
    "    3*cos(q1)*cos(q2) + 4*cos(q1)\n",
    "    \n",
    "    y = -2*(sin(q1)*sin(q2) - cos(q1)*cos(q2))*sin(q3) - 2 * \\\n",
    "    (-sin(q1)*cos(q2) - sin(q2)*cos(q1))*cos(q3) - 3*sin(q1)*cos(q2) + \\\n",
    "    4*sin(q1) - 3*sin(q2)*cos(q1)\n",
    "    \n",
    "    x1 = 4*cos(q1)\n",
    "    y1 = 4*sin(q1)\n",
    "    x2 = 3*sin(q1)*sin(q2)-3*cos(q1)*cos(q2)+4*cos(q1)\n",
    "    y2 = -3*sin(q1)*cos(q2)+4*sin(q1)-3*sin(q2)*cos(q1)\n",
    "    plt.plot(x,y,'r+')\n",
    "    plt.ylim(-9.5,9.5)\n",
    "    plt.xlim(-9.5,9.5)\n",
    "    plt.plot([0,x1],[0,y1],'k-')\n",
    "    plt.plot([x1,x2],[y1,y2],'r-')\n",
    "    plt.plot([x2,x],[y2,y],'b-')\n",
    "    plt.plot([-1,1],[0,0],'k-')\n",
    "    plt.grid(True)\n",
    "    print \"x [m] = \", x\n",
    "    print \"y [m] = \",y\n",
    "    print \"Ángulo [deg] = \", fact * arctan2((y-y2),(x-x2))\n",
    "q1_slider = FloatSlider(min=-2*pi, max=2*pi, step=0.1, value=3*pi/4, \\\n",
    "                        description='Angulo $q_1$')\n",
    "q2_slider = FloatSlider(min=-2*pi, max=2*pi, step=0.1, value=pi/2, \\\n",
    "                        description='Angulo $q_2$')\n",
    "q3_slider = FloatSlider(min=-2*pi, max=2*pi, step=0.1, value=2*pi/3, \\\n",
    "                        description='Angulo $q_3$')\n",
    "w=interactive(punto,q1=q1_slider,q2=q2_slider,q3=q3_slider)\n",
    "display(w)"
   ]
  },
  {
   "cell_type": "markdown",
   "metadata": {
    "collapsed": false
   },
   "source": [
    "Realizaremos la cinemática inversa mediate métodos geométricos. Sea $P_{her}$ el punto desado de la herramienta con coordenadas $x_h$ y $y_h$ ($z_h=0$ al tratarse de un robot plano) y formando un ángulo $\\theta_h$ con la horizontal. "
   ]
  },
  {
   "cell_type": "code",
   "execution_count": null,
   "metadata": {
    "collapsed": false
   },
   "outputs": [],
   "source": [
    "x_h, y_h, theta_h = sym.symbols('x_h y_h theta_h')\n",
    "z_h = 0"
   ]
  },
  {
   "cell_type": "markdown",
   "metadata": {
    "collapsed": true
   },
   "source": [
    "Por trigonometría las coordenadas de la articulación 3 serán $x_3 = x_h - l_3 * cos(\\theta)$ y $y_3 = y_h - l_3 * sin(\\theta)$. Podemos obtener $q_1$ y $q_2$ con $q_2 = arctg({{\\pm \\sqrt{1-cos^2 (q_2)}} \\over {cos (q_2)}})$ donde $cos (q_2) =  {{x_3^2 + y_3^2 - l_1^2 - l_2^2} \\over {2 l_1 l_2}}$ y $q_1 = arctg({{y_3}\\over{\\pm x_3}})-arctg({{l_2 sin(q_2)} \\over {l_1 + l_2 cos(q_2)}})$ (Barrientos, Fundamentos de Robótica, 2007). <br>\n",
    "Con estas fórmulas escribimos el algoritmo en python:"
   ]
  },
  {
   "cell_type": "code",
   "execution_count": null,
   "metadata": {
    "collapsed": false
   },
   "outputs": [],
   "source": [
    "from numpy import sqrt, arcsin\n",
    "def cin_inv(x,y,theta):\n",
    "    theta = theta / fact\n",
    "    x_3 = x - l_3 * cos(theta)\n",
    "    y_3 = y - l_3 * sin(theta)\n",
    "    cos_q_2 = (x_3**2 + y_3**2 - l_1**2 - l_2**2) / (2 * l_1 * l_2)\n",
    "    q_2 = arctan2(sqrt(1 - (cos_q_2)**2),cos_q_2)\n",
    "    q_1 = arctan2(y_3,x_3) - arctan2((l_2 * sin(q_2)),(l_1 + l_2 * cos_q_2))\n",
    "    l = sqrt(l_1**2 + l_2**2 - 2 * l_1 * l_2 * cos_q_2)\n",
    "    alpha = arcsin(l_1 * sin(q_2) / l)\n",
    "    beta = arctan2(y_3,x_3)\n",
    "    k = pi - theta\n",
    "    q_3 = (alpha + k + beta)\n",
    "    plt.plot(x, y, 'r+')\n",
    "    plt.ylim(-9.5, 9.5)\n",
    "    plt.xlim(-9.5, 9.5)\n",
    "    plt.plot([-1,1],[0,0],'k-')\n",
    "    x_2 = l_1 * cos(q_1)\n",
    "    y_2 = l_1 * sin(q_1)\n",
    "    x_1 = 0\n",
    "    y_1 = 0\n",
    "    plt.plot([x_1,x_2],[y_1,y_2],'r-')\n",
    "    plt.plot([x_2,x_3],[y_2,y_3],'b-')\n",
    "    plt.plot([x_3,x],[y_3,y],'k-')\n",
    "    plt.grid(True)\n",
    "    print \"q1 [deg] = \", q_1 * fact\n",
    "    print \"q2 [deg] = \", q_2 * fact\n",
    "    print \"q3 [deg] = \", q_3 * fact\n",
    "    print \"l1 [m] = \", sqrt((x_2**2)+(y_2**2)), l_1\n",
    "    print \"l2 [m] = \", sqrt(((x_2-x_3)**2)+((y_2-y_3)**2)), l_2\n",
    "    print \"l3 [m] = \", sqrt(((x_3-x)**2)+((y_3-y)**2)), l_3\n",
    "x_slider = FloatSlider(min=-9, max=9, step=0.1, value=-1, description='X')\n",
    "y_slider = FloatSlider(min=-9, max=9, step=0.1, value=4, description='Y')\n",
    "theta_slider = FloatSlider(min=0, max=360, step=0.1, value=200, description='Theta')\n",
    "w=interactive(cin_inv,x=x_slider,y=y_slider,theta=theta_slider)\n",
    "display(w)"
   ]
  },
  {
   "cell_type": "code",
   "execution_count": null,
   "metadata": {
    "collapsed": true
   },
   "outputs": [],
   "source": []
  }
 ],
 "metadata": {
  "kernelspec": {
   "display_name": "Apache Spark (Anaconda Python 3)",
   "language": "python",
   "name": "spark-anaconda"
  },
  "language_info": {
   "codemirror_mode": {
    "name": "ipython",
    "version": 2
   },
   "file_extension": ".py",
   "mimetype": "text/x-python",
   "name": "python",
   "nbconvert_exporter": "python",
   "pygments_lexer": "ipython2",
   "version": "2.7.10"
  },
  "name": "Proyecto_de_robotica.ipynb"
 },
 "nbformat": 4,
 "nbformat_minor": 0
}
